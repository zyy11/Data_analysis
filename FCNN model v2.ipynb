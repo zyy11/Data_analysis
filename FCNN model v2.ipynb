{
 "cells": [
  {
   "cell_type": "markdown",
   "metadata": {},
   "source": [
    "# 导入数据"
   ]
  },
  {
   "cell_type": "code",
   "execution_count": 8,
   "metadata": {},
   "outputs": [],
   "source": [
    "import csv\n",
    "import numpy as np\n",
    "import pandas as pd\n",
    "import matplotlib.pyplot as plt\n",
    "from datetime import datetime,timedelta\n",
    "import math"
   ]
  },
  {
   "cell_type": "code",
   "execution_count": 9,
   "metadata": {},
   "outputs": [],
   "source": [
    "data_file = '大黑楼逐日.csv'\n",
    "sensor_code='210200D11101027'"
   ]
  },
  {
   "cell_type": "code",
   "execution_count": 10,
   "metadata": {},
   "outputs": [],
   "source": [
    "data_list_tmp=[]\n",
    "with open(data_file, 'r', encoding='UTF-8') as f:\n",
    "    reader = csv.reader(f)\n",
    "    for row in reader:\n",
    "        if row[0]==sensor_code:\n",
    "            data_list_tmp.append([datetime(2019,int(row[4]),int(row[5]),0,0),float(row[3])])\n",
    "start_date=data_list_tmp[0][0]\n",
    "end_date=data_list_tmp[-1][0]\n",
    "date_list=pd.date_range(start=start_date,end=end_date).tolist()\n",
    "data_list=[]\n",
    "j=0\n",
    "for i in date_list:\n",
    "    if data_list_tmp[j][0]==i:\n",
    "        data_list.append([i,data_list_tmp[j][1]])\n",
    "        j=j+1\n",
    "    else:\n",
    "        data_list.append([i,math.nan])\n",
    "while math.isnan(data_list[0][1]):\n",
    "    del(data_list[0])\n",
    "while math.isnan(data_list[-1][1]):\n",
    "    del(data_list[-1])\n",
    "data_set=np.array(data_list)\n",
    "data_series=pd.Series(data_set[:,1],index=data_set[:,0]).astype(float)"
   ]
  },
  {
   "cell_type": "code",
   "execution_count": 11,
   "metadata": {},
   "outputs": [
    {
     "data": {
      "text/plain": [
       "<matplotlib.axes._subplots.AxesSubplot at 0x2284ad03ba8>"
      ]
     },
     "execution_count": 11,
     "metadata": {},
     "output_type": "execute_result"
    },
    {
     "data": {
      "image/png": "[encoded data removed]",
      "text/plain": [
       "<Figure size 432x288 with 1 Axes>"
      ]
     },
     "metadata": {
      "needs_background": "light"
     },
     "output_type": "display_data"
    }
   ],
   "source": [
    "data_series.plot()"
   ]
  },
  {
   "cell_type": "markdown",
   "metadata": {},
   "source": [
    "# 填补缺失值"
   ]
  },
  {
   "cell_type": "code",
   "execution_count": 5,
   "metadata": {},
   "outputs": [],
   "source": [
    "data_series=data_series.astype(float).interpolate()"
   ]
  },
  {
   "cell_type": "code",
   "execution_count": 6,
   "metadata": {},
   "outputs": [
    {
     "data": {
      "text/plain": [
       "2019-06-22    63.572\n",
       "2019-06-23    53.556\n",
       "2019-06-24    50.338\n",
       "2019-06-25    61.640\n",
       "2019-06-26    62.526\n",
       "               ...  \n",
       "2019-11-06    78.568\n",
       "2019-11-07    87.028\n",
       "2019-11-08    81.768\n",
       "2019-11-09    82.118\n",
       "2019-11-10    75.104\n",
       "Length: 142, dtype: float64"
      ]
     },
     "execution_count": 6,
     "metadata": {},
     "output_type": "execute_result"
    }
   ],
   "source": [
    "data_series"
   ]
  },
  {
   "cell_type": "markdown",
   "metadata": {},
   "source": [
    "# 数据归一化"
   ]
  },
  {
   "cell_type": "code",
   "execution_count": 7,
   "metadata": {},
   "outputs": [],
   "source": [
    "from sklearn.preprocessing import MinMaxScaler\n",
    "\n",
    "scaler = MinMaxScaler(feature_range=(-1, 1))\n",
    "data_normalized=scaler.fit_transform(np.array(data_series).reshape(-1,1)).reshape(1,-1)[0]"
   ]
  },
  {
   "cell_type": "code",
   "execution_count": 8,
   "metadata": {},
   "outputs": [
    {
     "data": {
      "text/plain": [
       "array([ 0.19629947, -0.14689053, -0.25715265,  0.13010108,  0.16045914,\n",
       "        0.23981497,  0.35857461,  0.34212781,  0.01182114, -0.19095426,\n",
       "        0.64324139,  0.55641597,  0.28607161,  0.7604934 ,  0.39701902,\n",
       "        0.41024499,  0.21843413,  0.18382731,  0.14922049,  0.11461367,\n",
       "        0.08000685,  0.04540003, -0.23083776, -0.08144595,  0.21130718,\n",
       "        0.20082234,  0.21391126,  0.16162412,  0.23344184, -0.29175947,\n",
       "       -0.26777454, -0.14212095, -0.01646736,  0.10918623,  0.23483981,\n",
       "        0.3604934 ,  0.00654446, -0.35096796,  0.49892068,  0.39989721,\n",
       "       -0.02353949,  0.10083947,  0.34486894, -0.43553195, -0.29196505,\n",
       "       -0.17025869, -0.33088916, -0.12030152, -1.        , -0.74307007,\n",
       "       -0.48614014, -0.22921021,  0.02771972,  0.1417509 ,  0.25249272,\n",
       "        0.02127805, -0.08315916, -0.13482954, -0.21041631,  0.10001713,\n",
       "        0.10714408,  0.07815659, -0.19383245, -0.20116498, -0.76254925,\n",
       "       -0.80524242, -0.54257324, -0.48082919, -0.41908515, -0.3573411 ,\n",
       "       -0.29559705, -0.23385301, -0.16237793,  0.24050026,  0.24769573,\n",
       "        0.40839472,  0.31005654,  0.15100223,  0.19883502, -0.35261264,\n",
       "        0.318417  ,  0.40654446,  0.53853007,  0.57101251, -0.21158129,\n",
       "       -0.06068186,  0.24015762,  0.61768032,  0.61075895,  0.62974131,\n",
       "        0.72403632,  0.74459483,  0.22001028,  0.09439781,  0.5605962 ,\n",
       "        0.44656502,  0.63885558,  0.69724173,  0.29580264,  0.0752784 ,\n",
       "        0.33616584,  0.03608018, -0.51303752, -0.64838102, -0.71773171,\n",
       "       -0.58841871, -0.52900463, -0.84019188, -0.42662327,  0.11989035,\n",
       "        0.41236937,  0.41284907,  0.35809491,  0.24995717,  0.1651876 ,\n",
       "        0.33130033,  0.64481754,  0.82271715,  0.70032551,  0.68524927,\n",
       "        0.21034778,  0.10111359,  0.38290218,  0.54284735,  0.53496659,\n",
       "        0.82854206,  0.75884872,  0.53517218,  0.54880932,  0.71149563,\n",
       "        0.69566558,  0.67983553,  0.66400548,  0.44766147,  0.39475758,\n",
       "        0.41175261,  0.69333562,  0.71012506,  1.        ,  0.81977043,\n",
       "        0.83176289,  0.59143396])"
      ]
     },
     "execution_count": 8,
     "metadata": {},
     "output_type": "execute_result"
    }
   ],
   "source": [
    "data_normalized"
   ]
  },
  {
   "cell_type": "markdown",
   "metadata": {},
   "source": [
    "# 划分测试集"
   ]
  },
  {
   "cell_type": "code",
   "execution_count": 9,
   "metadata": {},
   "outputs": [],
   "source": [
    "train_proportion=0.9\n",
    "train_length=int(len(data_normalized)*train_proportion)\n",
    "test_length=len(data_normalized)-train_length\n",
    "data_train=pd.Series(data_normalized[:train_length],index=data_series.index[:train_length])\n",
    "data_test=pd.Series(data_normalized[train_length:],index=data_series.index[train_length:])"
   ]
  },
  {
   "cell_type": "code",
   "execution_count": 10,
   "metadata": {},
   "outputs": [
    {
     "data": {
      "text/plain": [
       "2019-06-22    0.196299\n",
       "2019-06-23   -0.146891\n",
       "2019-06-24   -0.257153\n",
       "2019-06-25    0.130101\n",
       "2019-06-26    0.160459\n",
       "                ...   \n",
       "2019-10-22    0.382902\n",
       "2019-10-23    0.542847\n",
       "2019-10-24    0.534967\n",
       "2019-10-25    0.828542\n",
       "2019-10-26    0.758849\n",
       "Length: 127, dtype: float64"
      ]
     },
     "execution_count": 10,
     "metadata": {},
     "output_type": "execute_result"
    }
   ],
   "source": [
    "data_train"
   ]
  },
  {
   "cell_type": "code",
   "execution_count": 11,
   "metadata": {},
   "outputs": [
    {
     "data": {
      "text/plain": [
       "2019-10-27    0.535172\n",
       "2019-10-28    0.548809\n",
       "2019-10-29    0.711496\n",
       "2019-10-30    0.695666\n",
       "2019-10-31    0.679836\n",
       "2019-11-01    0.664005\n",
       "2019-11-02    0.447661\n",
       "2019-11-03    0.394758\n",
       "2019-11-04    0.411753\n",
       "2019-11-05    0.693336\n",
       "2019-11-06    0.710125\n",
       "2019-11-07    1.000000\n",
       "2019-11-08    0.819770\n",
       "2019-11-09    0.831763\n",
       "2019-11-10    0.591434\n",
       "dtype: float64"
      ]
     },
     "execution_count": 11,
     "metadata": {},
     "output_type": "execute_result"
    }
   ],
   "source": [
    "data_test"
   ]
  },
  {
   "cell_type": "code",
   "execution_count": 12,
   "metadata": {},
   "outputs": [],
   "source": [
    "y_train=np.mat(data_train.tolist()[7:]).T\n",
    "x_train=np.transpose([data_train.shift(1).tolist(),data_train.shift(2).tolist(),data_train.shift(3).tolist(),data_train.shift(4).tolist(),data_train.shift(5).tolist(),data_train.shift(6).tolist(),data_train.shift(7).tolist()])[7:]"
   ]
  },
  {
   "cell_type": "markdown",
   "metadata": {},
   "source": [
    "# 神经网络定义"
   ]
  },
  {
   "cell_type": "code",
   "execution_count": 13,
   "metadata": {},
   "outputs": [],
   "source": [
    "import torch\n",
    "from torch import nn, optim\n",
    "from torch.autograd import Variable"
   ]
  },
  {
   "cell_type": "code",
   "execution_count": 14,
   "metadata": {},
   "outputs": [],
   "source": [
    "x = torch.tensor(x_train).float()\n",
    "y = torch.tensor(y_train).float()\n",
    "#train_loader = DataLoader(train_dataset, batch_size=batch_size, shuffle=True)\n",
    "#test_loader = DataLoader(test_dataset, batch_size=batch_size, shuffle=False)"
   ]
  },
  {
   "cell_type": "code",
   "execution_count": 15,
   "metadata": {},
   "outputs": [
    {
     "name": "stdout",
     "output_type": "stream",
     "text": [
      "Sequential(\n",
      "  (0): Linear(in_features=7, out_features=15, bias=True)\n",
      "  (1): ReLU()\n",
      "  (2): Linear(in_features=15, out_features=7, bias=True)\n",
      "  (3): ReLU()\n",
      "  (4): Linear(in_features=7, out_features=1, bias=True)\n",
      ")\n"
     ]
    }
   ],
   "source": [
    "myNet = nn.Sequential(\n",
    "    nn.Linear(7, 15),\n",
    "    nn.ReLU(),\n",
    "    nn.Linear(15, 7),\n",
    "    nn.ReLU(),\n",
    "    nn.Linear(7,1)\n",
    ")\n",
    "print(myNet)"
   ]
  },
  {
   "cell_type": "markdown",
   "metadata": {},
   "source": [
    "# 定义超参数与模型"
   ]
  },
  {
   "cell_type": "code",
   "execution_count": 16,
   "metadata": {},
   "outputs": [],
   "source": [
    "num_epoches=1000\n",
    "optimizer = torch.optim.SGD(myNet.parameters(), lr=0.05)\n",
    "criterion = nn.MSELoss()"
   ]
  },
  {
   "cell_type": "code",
   "execution_count": 17,
   "metadata": {},
   "outputs": [
    {
     "name": "stdout",
     "output_type": "stream",
     "text": [
      "epoch: 0, loss: 0.1684\n",
      "epoch: 100, loss: 0.1225\n",
      "epoch: 200, loss: 0.09708\n",
      "epoch: 300, loss: 0.08508\n",
      "epoch: 400, loss: 0.07628\n",
      "epoch: 500, loss: 0.07135\n",
      "epoch: 600, loss: 0.06846\n",
      "epoch: 700, loss: 0.06642\n",
      "epoch: 800, loss: 0.06488\n",
      "epoch: 900, loss: 0.06346\n"
     ]
    }
   ],
   "source": [
    "for epoch in range(num_epoches):\n",
    "    out = myNet(x)\n",
    "    loss = criterion(out, y)\n",
    "    optimizer.zero_grad()\n",
    "    loss.backward()\n",
    "    optimizer.step()\n",
    "    if epoch%100 == 0:\n",
    "        print('epoch: {}, loss: {:.4}'.format(epoch, loss.data.item()))"
   ]
  },
  {
   "cell_type": "code",
   "execution_count": 18,
   "metadata": {},
   "outputs": [],
   "source": [
    "y_test_normalized=[]\n",
    "x_test_normalized=data_train[-7:].tolist()\n",
    "for i in range(test_length):\n",
    "    pred=myNet(torch.tensor(np.array(x_test_normalized[-7:]).reshape(1,-1)[0]).float()).item()\n",
    "    y_test_normalized.append(pred)\n",
    "    x_test_normalized.append(pred)"
   ]
  },
  {
   "cell_type": "code",
   "execution_count": 19,
   "metadata": {},
   "outputs": [],
   "source": [
    "actual_predictions = pd.Series(scaler.inverse_transform(np.array(y_test_normalized).reshape(-1, 1)).reshape(1,-1)[0],index=data_series.index[-test_length:])"
   ]
  },
  {
   "cell_type": "code",
   "execution_count": 22,
   "metadata": {},
   "outputs": [
    {
     "data": {
      "image/png": "[encoded data removed]",
      "text/plain": [
       "<Figure size 432x288 with 1 Axes>"
      ]
     },
     "metadata": {
      "needs_background": "light"
     },
     "output_type": "display_data"
    }
   ],
   "source": [
    "data_series.plot()\n",
    "actual_predictions.plot()\n",
    "plt.show()"
   ]
  },
  {
   "cell_type": "code",
   "execution_count": 24,
   "metadata": {},
   "outputs": [
    {
     "name": "stdout",
     "output_type": "stream",
     "text": [
      "0.9085909106930954\n"
     ]
    }
   ],
   "source": [
    "accuracy=1-(abs(actual_predictions-data_series)/data_series)[train_length:].mean()\n",
    "print(accuracy)"
   ]
  }
 ],
 "metadata": {
  "kernelspec": {
   "display_name": "Python(pytorch)",
   "language": "python",
   "name": "pytorch"
  },
  "language_info": {
   "codemirror_mode": {
    "name": "ipython",
    "version": 3
   },
   "file_extension": ".py",
   "mimetype": "text/x-python",
   "name": "python",
   "nbconvert_exporter": "python",
   "pygments_lexer": "ipython3",
   "version": "3.6.7"
  }
 },
 "nbformat": 4,
 "nbformat_minor": 2
}

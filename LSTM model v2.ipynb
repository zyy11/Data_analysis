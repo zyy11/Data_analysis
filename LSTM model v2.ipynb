{
 "cells": [
  {
   "cell_type": "markdown",
   "metadata": {},
   "source": [
    "# 导入数据"
   ]
  },
  {
   "cell_type": "code",
   "execution_count": 47,
   "metadata": {},
   "outputs": [],
   "source": [
    "import torch\n",
    "import torch.nn as nn\n",
    "import csv\n",
    "import numpy as np\n",
    "import pandas as pd\n",
    "import matplotlib.pyplot as plt\n",
    "import math\n",
    "from datetime import datetime,timedelta"
   ]
  },
  {
   "cell_type": "code",
   "execution_count": 48,
   "metadata": {},
   "outputs": [],
   "source": [
    "data_file = '大黑楼逐日.csv'\n",
    "sensor_code='210200D11103009'"
   ]
  },
  {
   "cell_type": "code",
   "execution_count": 49,
   "metadata": {},
   "outputs": [],
   "source": [
    "data_list_tmp=[]\n",
    "with open(data_file, 'r', encoding='UTF-8') as f:\n",
    "    reader = csv.reader(f)\n",
    "    for row in reader:\n",
    "        if row[0]==sensor_code:\n",
    "            data_list_tmp.append([datetime(2019,int(row[4]),int(row[5]),0,0),float(row[3])])\n",
    "start_date=data_list_tmp[0][0]\n",
    "end_date=data_list_tmp[-1][0]\n",
    "date_list=pd.date_range(start=start_date,end=end_date).tolist()\n",
    "data_list=[]\n",
    "j=0\n",
    "for i in date_list:\n",
    "    if data_list_tmp[j][0]==i:\n",
    "        data_list.append([i,data_list_tmp[j][1]])\n",
    "        j=j+1\n",
    "    else:\n",
    "        data_list.append([i,math.nan])\n",
    "while math.isnan(data_list[0][1]):\n",
    "    del(data_list[0])\n",
    "while math.isnan(data_list[-1][1]):\n",
    "    del(data_list[-1])\n",
    "data_set=np.array(data_list)\n",
    "data_series=pd.Series(data_set[:,1],index=data_set[:,0]).astype(float)"
   ]
  },
  {
   "cell_type": "code",
   "execution_count": 50,
   "metadata": {},
   "outputs": [
    {
     "data": {
      "text/plain": [
       "<matplotlib.axes._subplots.AxesSubplot at 0x1d504da3b38>"
      ]
     },
     "execution_count": 50,
     "metadata": {},
     "output_type": "execute_result"
    },
    {
     "data": {
      "image/png": "[encoded data removed]",
      "text/plain": [
       "<Figure size 432x288 with 1 Axes>"
      ]
     },
     "metadata": {
      "needs_background": "light"
     },
     "output_type": "display_data"
    }
   ],
   "source": [
    "data_series.plot()"
   ]
  },
  {
   "cell_type": "markdown",
   "metadata": {},
   "source": [
    "# 填补缺失值"
   ]
  },
  {
   "cell_type": "code",
   "execution_count": 51,
   "metadata": {},
   "outputs": [],
   "source": [
    "data_series=data_series.astype(float).interpolate()"
   ]
  },
  {
   "cell_type": "code",
   "execution_count": 52,
   "metadata": {},
   "outputs": [
    {
     "data": {
      "text/plain": [
       "2019-06-22    63.572\n",
       "2019-06-23    53.556\n",
       "2019-06-24    50.338\n",
       "2019-06-25    61.640\n",
       "2019-06-26    62.526\n",
       "               ...  \n",
       "2019-11-06    78.568\n",
       "2019-11-07    87.028\n",
       "2019-11-08    81.768\n",
       "2019-11-09    82.118\n",
       "2019-11-10    75.104\n",
       "Length: 142, dtype: float64"
      ]
     },
     "execution_count": 52,
     "metadata": {},
     "output_type": "execute_result"
    }
   ],
   "source": [
    "data_series"
   ]
  },
  {
   "cell_type": "markdown",
   "metadata": {},
   "source": [
    "# 划分测试集"
   ]
  },
  {
   "cell_type": "code",
   "execution_count": 53,
   "metadata": {},
   "outputs": [],
   "source": [
    "train_proportion=0.9\n",
    "train_length=int(len(data_series)*train_proportion)\n",
    "test_length=len(data_series)-train_length\n",
    "data_train=data_series[0:train_length]\n",
    "data_test=data_series[train_length:]"
   ]
  },
  {
   "cell_type": "code",
   "execution_count": 54,
   "metadata": {},
   "outputs": [
    {
     "data": {
      "text/plain": [
       "2019-06-22    63.572\n",
       "2019-06-23    53.556\n",
       "2019-06-24    50.338\n",
       "2019-06-25    61.640\n",
       "2019-06-26    62.526\n",
       "               ...  \n",
       "2019-10-22    69.018\n",
       "2019-10-23    73.686\n",
       "2019-10-24    73.456\n",
       "2019-10-25    82.024\n",
       "2019-10-26    79.990\n",
       "Length: 127, dtype: float64"
      ]
     },
     "execution_count": 54,
     "metadata": {},
     "output_type": "execute_result"
    }
   ],
   "source": [
    "data_train"
   ]
  },
  {
   "cell_type": "code",
   "execution_count": 55,
   "metadata": {},
   "outputs": [
    {
     "data": {
      "text/plain": [
       "2019-10-27    73.462\n",
       "2019-10-28    73.860\n",
       "2019-10-29    78.608\n",
       "2019-10-30    78.146\n",
       "2019-10-31    77.684\n",
       "2019-11-01    77.222\n",
       "2019-11-02    70.908\n",
       "2019-11-03    69.364\n",
       "2019-11-04    69.860\n",
       "2019-11-05    78.078\n",
       "2019-11-06    78.568\n",
       "2019-11-07    87.028\n",
       "2019-11-08    81.768\n",
       "2019-11-09    82.118\n",
       "2019-11-10    75.104\n",
       "dtype: float64"
      ]
     },
     "execution_count": 55,
     "metadata": {},
     "output_type": "execute_result"
    }
   ],
   "source": [
    "data_test"
   ]
  },
  {
   "cell_type": "markdown",
   "metadata": {},
   "source": [
    "# 构建神经网络"
   ]
  },
  {
   "cell_type": "code",
   "execution_count": 56,
   "metadata": {},
   "outputs": [],
   "source": [
    "from sklearn.preprocessing import MinMaxScaler\n",
    "\n",
    "scaler = MinMaxScaler(feature_range=(-1, 1))\n",
    "train_data_normalized = scaler.fit_transform(np.array(data_train.tolist()).reshape(-1, 1))"
   ]
  },
  {
   "cell_type": "code",
   "execution_count": 57,
   "metadata": {},
   "outputs": [],
   "source": [
    "train_data_normalized = torch.FloatTensor(train_data_normalized).view(-1)\n",
    "train_window = 7"
   ]
  },
  {
   "cell_type": "code",
   "execution_count": 58,
   "metadata": {},
   "outputs": [],
   "source": [
    "def create_inout_sequences(input_data, tw):\n",
    "    inout_seq = []\n",
    "    L = len(input_data)\n",
    "    for i in range(L-tw):\n",
    "        train_seq = input_data[i:i+tw]\n",
    "        train_label = input_data[i+tw:i+tw+1]\n",
    "        inout_seq.append((train_seq ,train_label))\n",
    "    return inout_seq"
   ]
  },
  {
   "cell_type": "code",
   "execution_count": 59,
   "metadata": {},
   "outputs": [],
   "source": [
    "train_inout_seq = create_inout_sequences(train_data_normalized, train_window)"
   ]
  },
  {
   "cell_type": "code",
   "execution_count": 60,
   "metadata": {},
   "outputs": [
    {
     "data": {
      "text/plain": [
       "[(tensor([ 0.3085, -0.0669, -0.1875,  0.2361,  0.2693,  0.3561,  0.4860]),\n",
       "  tensor([0.4680])),\n",
       " (tensor([-0.0669, -0.1875,  0.2361,  0.2693,  0.3561,  0.4860,  0.4680]),\n",
       "  tensor([0.1067])),\n",
       " (tensor([-0.1875,  0.2361,  0.2693,  0.3561,  0.4860,  0.4680,  0.1067]),\n",
       "  tensor([-0.1151])),\n",
       " (tensor([ 0.2361,  0.2693,  0.3561,  0.4860,  0.4680,  0.1067, -0.1151]),\n",
       "  tensor([0.7973])),\n",
       " (tensor([ 0.2693,  0.3561,  0.4860,  0.4680,  0.1067, -0.1151,  0.7973]),\n",
       "  tensor([0.7024]))]"
      ]
     },
     "execution_count": 60,
     "metadata": {},
     "output_type": "execute_result"
    }
   ],
   "source": [
    "train_inout_seq[:5]"
   ]
  },
  {
   "cell_type": "code",
   "execution_count": 61,
   "metadata": {},
   "outputs": [],
   "source": [
    "class LSTM(nn.Module):\n",
    "    def __init__(self, input_size=1, hidden_layer_size=100, output_size=1):\n",
    "        super().__init__()\n",
    "        self.hidden_layer_size = hidden_layer_size\n",
    "\n",
    "        self.lstm = nn.LSTM(input_size, hidden_layer_size)\n",
    "\n",
    "        self.linear = nn.Linear(hidden_layer_size, output_size)\n",
    "\n",
    "        self.hidden_cell = (torch.zeros(1,1,self.hidden_layer_size),\n",
    "                            torch.zeros(1,1,self.hidden_layer_size))\n",
    "\n",
    "    def forward(self, input_seq):\n",
    "        lstm_out, self.hidden_cell = self.lstm(input_seq.view(len(input_seq) ,1, -1), self.hidden_cell)\n",
    "        predictions = self.linear(lstm_out.view(len(input_seq), -1))\n",
    "        return predictions[-1]"
   ]
  },
  {
   "cell_type": "code",
   "execution_count": 62,
   "metadata": {},
   "outputs": [],
   "source": [
    "model = LSTM()\n",
    "loss_function = nn.MSELoss()\n",
    "optimizer = torch.optim.Adam(model.parameters(), lr=0.001)"
   ]
  },
  {
   "cell_type": "code",
   "execution_count": 63,
   "metadata": {},
   "outputs": [
    {
     "name": "stdout",
     "output_type": "stream",
     "text": [
      "LSTM(\n",
      "  (lstm): LSTM(1, 100)\n",
      "  (linear): Linear(in_features=100, out_features=1, bias=True)\n",
      ")\n"
     ]
    }
   ],
   "source": [
    "print(model)"
   ]
  },
  {
   "cell_type": "markdown",
   "metadata": {},
   "source": [
    "# 训练神经网络"
   ]
  },
  {
   "cell_type": "code",
   "execution_count": 64,
   "metadata": {},
   "outputs": [
    {
     "name": "stdout",
     "output_type": "stream",
     "text": [
      "epoch:   1 loss: 0.09496472\n",
      "epoch:  26 loss: 0.00389938\n",
      "epoch:  51 loss: 0.04557109\n",
      "epoch:  76 loss: 0.00090481\n",
      "epoch: 101 loss: 0.00210930\n",
      "epoch: 126 loss: 0.00038219\n",
      "epoch: 149 loss: 0.0034646895\n"
     ]
    }
   ],
   "source": [
    "epochs = 150\n",
    "\n",
    "for i in range(epochs):\n",
    "    for seq, labels in train_inout_seq:\n",
    "        optimizer.zero_grad()\n",
    "        model.hidden_cell = (torch.zeros(1, 1, model.hidden_layer_size),\n",
    "                        torch.zeros(1, 1, model.hidden_layer_size))\n",
    "\n",
    "        y_pred = model(seq)\n",
    "\n",
    "        single_loss = loss_function(y_pred, labels)\n",
    "        single_loss.backward()\n",
    "        optimizer.step()\n",
    "\n",
    "    if i%25 == 1:\n",
    "        print(f'epoch: {i:3} loss: {single_loss.item():10.8f}')\n",
    "\n",
    "print(f'epoch: {i:3} loss: {single_loss.item():10.10f}')"
   ]
  },
  {
   "cell_type": "markdown",
   "metadata": {},
   "source": [
    "# 结果预测"
   ]
  },
  {
   "cell_type": "code",
   "execution_count": 65,
   "metadata": {},
   "outputs": [],
   "source": [
    "fut_pred = test_length\n",
    "test_inputs = train_data_normalized[-train_window:].tolist()\n",
    "model.eval()\n",
    "\n",
    "for i in range(fut_pred):\n",
    "    seq = torch.FloatTensor(test_inputs[-train_window:])\n",
    "    with torch.no_grad():\n",
    "        model.hidden = (torch.zeros(1, 1, model.hidden_layer_size),\n",
    "                        torch.zeros(1, 1, model.hidden_layer_size))\n",
    "        test_inputs.append(model(seq).item())"
   ]
  },
  {
   "cell_type": "code",
   "execution_count": 66,
   "metadata": {},
   "outputs": [
    {
     "name": "stdout",
     "output_type": "stream",
     "text": [
      "[[75.34141879]\n",
      " [67.59055161]\n",
      " [73.1559936 ]\n",
      " [62.66702416]\n",
      " [63.21969884]\n",
      " [71.57233332]\n",
      " [70.42424432]\n",
      " [57.53892438]\n",
      " [51.31129304]\n",
      " [64.36329011]\n",
      " [49.0832455 ]\n",
      " [48.25838172]\n",
      " [44.59105361]\n",
      " [42.41194879]\n",
      " [45.35230214]]\n"
     ]
    }
   ],
   "source": [
    "actual_predictions = scaler.inverse_transform(np.array(test_inputs[train_window:] ).reshape(-1, 1))\n",
    "print(actual_predictions)"
   ]
  },
  {
   "cell_type": "code",
   "execution_count": 67,
   "metadata": {},
   "outputs": [
    {
     "data": {
      "image/png": "[encoded data removed]",
      "text/plain": [
       "<Figure size 432x288 with 1 Axes>"
      ]
     },
     "metadata": {
      "needs_background": "light"
     },
     "output_type": "display_data"
    }
   ],
   "source": [
    "plt.autoscale(axis='x', tight=True)\n",
    "data_series.plot()\n",
    "pred_data=pd.Series(actual_predictions.reshape(1,-1)[0],index=data_test.index)\n",
    "pred_data.plot()\n",
    "plt.show()"
   ]
  },
  {
   "cell_type": "code",
   "execution_count": 68,
   "metadata": {},
   "outputs": [
    {
     "name": "stdout",
     "output_type": "stream",
     "text": [
      "0.16862520063979247\n"
     ]
    }
   ],
   "source": [
    "accuracy=1-(abs(pred_data-real_data)/real_data).mean()\n",
    "print(accuracy)"
   ]
  },
  {
   "cell_type": "code",
   "execution_count": null,
   "metadata": {},
   "outputs": [],
   "source": []
  }
 ],
 "metadata": {
  "kernelspec": {
   "display_name": "Python(pytorch)",
   "language": "python",
   "name": "pytorch"
  },
  "language_info": {
   "codemirror_mode": {
    "name": "ipython",
    "version": 3
   },
   "file_extension": ".py",
   "mimetype": "text/x-python",
   "name": "python",
   "nbconvert_exporter": "python",
   "pygments_lexer": "ipython3",
   "version": "3.6.7"
  }
 },
 "nbformat": 4,
 "nbformat_minor": 2
}

{
 "cells": [
  {
   "cell_type": "markdown",
   "metadata": {},
   "source": [
    "# 导入数据"
   ]
  },
  {
   "cell_type": "code",
   "execution_count": 78,
   "metadata": {},
   "outputs": [],
   "source": [
    "import csv\n",
    "import numpy as np\n",
    "import pandas as pd\n",
    "import matplotlib.pyplot as plt\n",
    "from datetime import datetime,timedelta\n",
    "import math"
   ]
  },
  {
   "cell_type": "code",
   "execution_count": 105,
   "metadata": {},
   "outputs": [],
   "source": [
    "data_file = '大黑楼逐日.csv'\n",
    "sensor_code='210200D11103009'"
   ]
  },
  {
   "cell_type": "code",
   "execution_count": 106,
   "metadata": {},
   "outputs": [],
   "source": [
    "data_list_tmp=[]\n",
    "with open(data_file, 'r', encoding='UTF-8') as f:\n",
    "    reader = csv.reader(f)\n",
    "    for row in reader:\n",
    "        if row[0]==sensor_code:\n",
    "            data_list_tmp.append([datetime(2019,int(row[4]),int(row[5]),0,0),float(row[3])])\n",
    "start_date=data_list_tmp[0][0]\n",
    "end_date=data_list_tmp[-1][0]\n",
    "date_list=pd.date_range(start=start_date,end=end_date).tolist()\n",
    "data_list=[]\n",
    "j=0\n",
    "for i in date_list:\n",
    "    if data_list_tmp[j][0]==i:\n",
    "        data_list.append([i,data_list_tmp[j][1]])\n",
    "        j=j+1\n",
    "    else:\n",
    "        data_list.append([i,math.nan])\n",
    "while math.isnan(data_list[0][1]):\n",
    "    del(data_list[0])\n",
    "while math.isnan(data_list[-1][1]):\n",
    "    del(data_list[-1])\n",
    "data_set=np.array(data_list)\n",
    "data_series=pd.Series(data_set[:,1],index=data_set[:,0]).astype(float)"
   ]
  },
  {
   "cell_type": "code",
   "execution_count": 107,
   "metadata": {},
   "outputs": [
    {
     "data": {
      "text/plain": [
       "<matplotlib.axes._subplots.AxesSubplot at 0x269666f04e0>"
      ]
     },
     "execution_count": 107,
     "metadata": {},
     "output_type": "execute_result"
    },
    {
     "data": {
      "image/png": "[encoded data removed]",
      "text/plain": [
       "<Figure size 432x288 with 1 Axes>"
      ]
     },
     "metadata": {
      "needs_background": "light"
     },
     "output_type": "display_data"
    }
   ],
   "source": [
    "data_series.plot()"
   ]
  },
  {
   "cell_type": "markdown",
   "metadata": {},
   "source": [
    "# 填补缺失值"
   ]
  },
  {
   "cell_type": "code",
   "execution_count": 108,
   "metadata": {},
   "outputs": [],
   "source": [
    "data_series=data_series.astype(float).interpolate()"
   ]
  },
  {
   "cell_type": "code",
   "execution_count": 109,
   "metadata": {},
   "outputs": [
    {
     "data": {
      "text/plain": [
       "2019-06-22    63.572\n",
       "2019-06-23    53.556\n",
       "2019-06-24    50.338\n",
       "2019-06-25    61.640\n",
       "2019-06-26    62.526\n",
       "               ...  \n",
       "2019-11-06    78.568\n",
       "2019-11-07    87.028\n",
       "2019-11-08    81.768\n",
       "2019-11-09    82.118\n",
       "2019-11-10    75.104\n",
       "Length: 142, dtype: float64"
      ]
     },
     "execution_count": 109,
     "metadata": {},
     "output_type": "execute_result"
    }
   ],
   "source": [
    "data_series"
   ]
  },
  {
   "cell_type": "markdown",
   "metadata": {},
   "source": [
    "# 划分测试集"
   ]
  },
  {
   "cell_type": "code",
   "execution_count": 110,
   "metadata": {},
   "outputs": [],
   "source": [
    "train_proportion=0.9\n",
    "train_length=int(len(data_series)*train_proportion)\n",
    "test_length=len(data_series)-train_length\n",
    "data_train=data_series[0:train_length]\n",
    "data_test=data_series[train_length:]"
   ]
  },
  {
   "cell_type": "code",
   "execution_count": 111,
   "metadata": {},
   "outputs": [
    {
     "data": {
      "text/plain": [
       "2019-06-22    63.572\n",
       "2019-06-23    53.556\n",
       "2019-06-24    50.338\n",
       "2019-06-25    61.640\n",
       "2019-06-26    62.526\n",
       "               ...  \n",
       "2019-10-22    69.018\n",
       "2019-10-23    73.686\n",
       "2019-10-24    73.456\n",
       "2019-10-25    82.024\n",
       "2019-10-26    79.990\n",
       "Length: 127, dtype: float64"
      ]
     },
     "execution_count": 111,
     "metadata": {},
     "output_type": "execute_result"
    }
   ],
   "source": [
    "data_train"
   ]
  },
  {
   "cell_type": "code",
   "execution_count": 112,
   "metadata": {},
   "outputs": [
    {
     "data": {
      "text/plain": [
       "2019-10-27    73.462\n",
       "2019-10-28    73.860\n",
       "2019-10-29    78.608\n",
       "2019-10-30    78.146\n",
       "2019-10-31    77.684\n",
       "2019-11-01    77.222\n",
       "2019-11-02    70.908\n",
       "2019-11-03    69.364\n",
       "2019-11-04    69.860\n",
       "2019-11-05    78.078\n",
       "2019-11-06    78.568\n",
       "2019-11-07    87.028\n",
       "2019-11-08    81.768\n",
       "2019-11-09    82.118\n",
       "2019-11-10    75.104\n",
       "dtype: float64"
      ]
     },
     "execution_count": 112,
     "metadata": {},
     "output_type": "execute_result"
    }
   ],
   "source": [
    "data_test"
   ]
  },
  {
   "cell_type": "markdown",
   "metadata": {},
   "source": [
    "# 数据格式转换"
   ]
  },
  {
   "cell_type": "code",
   "execution_count": 113,
   "metadata": {},
   "outputs": [],
   "source": [
    "y_train=data_train.tolist()[7:]\n",
    "x_train=np.transpose([data_train.shift(1).tolist(),data_train.shift(2).tolist(),data_train.shift(3).tolist(),data_train.shift(4).tolist(),data_train.shift(5).tolist(),data_train.shift(6).tolist(),data_train.shift(7).tolist()])[7:]"
   ]
  },
  {
   "cell_type": "markdown",
   "metadata": {},
   "source": [
    "# 模型建立"
   ]
  },
  {
   "cell_type": "code",
   "execution_count": 114,
   "metadata": {},
   "outputs": [
    {
     "name": "stdout",
     "output_type": "stream",
     "text": [
      "[ 0.80284769 -0.14541745  0.19741544 -0.1961345   0.10557491 -0.03800664\n",
      "  0.06982325]\n",
      "12.468701234202598\n"
     ]
    }
   ],
   "source": [
    "from sklearn.linear_model import LinearRegression\n",
    "model = LinearRegression()\n",
    "model.fit(x_train,y_train)\n",
    "print(model.coef_)\n",
    "print(model.intercept_)"
   ]
  },
  {
   "cell_type": "code",
   "execution_count": 115,
   "metadata": {},
   "outputs": [],
   "source": [
    "y_test=[]\n",
    "x_test=data_train[-7:].tolist()\n",
    "for i in range(test_length):\n",
    "    pred=model.predict(np.array(x_test[-7:]).reshape(1,-1))[0]\n",
    "    y_test.append(pred)\n",
    "    x_test.append(pred)"
   ]
  },
  {
   "cell_type": "code",
   "execution_count": 116,
   "metadata": {},
   "outputs": [
    {
     "data": {
      "image/png": "[encoded data removed]",
      "text/plain": [
       "<Figure size 432x288 with 1 Axes>"
      ]
     },
     "metadata": {
      "needs_background": "light"
     },
     "output_type": "display_data"
    }
   ],
   "source": [
    "plt.autoscale(axis='x', tight=True)\n",
    "data_series.plot()\n",
    "pred_data=pd.Series(y_test,index=data_test.index)\n",
    "pred_data.plot()\n",
    "plt.show()"
   ]
  },
  {
   "cell_type": "code",
   "execution_count": 117,
   "metadata": {},
   "outputs": [
    {
     "name": "stdout",
     "output_type": "stream",
     "text": [
      "0.88180154521793\n"
     ]
    }
   ],
   "source": [
    "accuracy=1-(abs(pred_data-data_series)/data_series)[train_length:].mean()\n",
    "print(accuracy)"
   ]
  },
  {
   "cell_type": "code",
   "execution_count": null,
   "metadata": {},
   "outputs": [],
   "source": []
  }
 ],
 "metadata": {
  "kernelspec": {
   "display_name": "Python(pytorch)",
   "language": "python",
   "name": "pytorch"
  },
  "language_info": {
   "codemirror_mode": {
    "name": "ipython",
    "version": 3
   },
   "file_extension": ".py",
   "mimetype": "text/x-python",
   "name": "python",
   "nbconvert_exporter": "python",
   "pygments_lexer": "ipython3",
   "version": "3.6.7"
  }
 },
 "nbformat": 4,
 "nbformat_minor": 2
}
